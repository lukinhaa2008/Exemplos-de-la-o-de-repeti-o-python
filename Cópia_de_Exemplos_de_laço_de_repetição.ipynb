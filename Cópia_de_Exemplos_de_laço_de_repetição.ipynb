{
  "nbformat": 4,
  "nbformat_minor": 0,
  "metadata": {
    "colab": {
      "provenance": []
    },
    "kernelspec": {
      "name": "python3",
      "display_name": "Python 3"
    },
    "language_info": {
      "name": "python"
    }
  },
  "cells": [
    {
      "cell_type": "markdown",
      "source": [
        "Exemplo 1\n",
        "\n",
        "Programa que pede ao usuário para inserir uma senha correta."
      ],
      "metadata": {
        "id": "x7HyN5VLh9a1"
      }
    },
    {
      "cell_type": "code",
      "execution_count": null,
      "metadata": {
        "colab": {
          "base_uri": "https://localhost:8080/"
        },
        "id": "TXWePmPAgH_F",
        "outputId": "16585255-7fcb-492f-d55b-1da780460e88"
      },
      "outputs": [
        {
          "output_type": "stream",
          "name": "stdout",
          "text": [
            "Digite a senha: 456456789\n",
            "Senha incorreta, tente novamente!\n",
            "Digite a senha: 7897897845646\n",
            "Senha incorreta, tente novamente!\n",
            "Digite a senha: 1234\n",
            "Senha correta! Acesso permitido.\n"
          ]
        }
      ],
      "source": [
        "# Definindo a senha correta\n",
        "senha_correta = \"1234\"\n",
        "\n",
        "# Inicializando a variável de senha\n",
        "senha = None\n",
        "\n",
        "# Laço while que continua até a senha ser igual à senha correta\n",
        "while senha != senha_correta:\n",
        "    senha = input(\"Digite a senha: \")\n",
        "\n",
        "    if senha != senha_correta:\n",
        "      print(\"Senha incorreta, tente novamente!\")\n",
        "\n",
        "print(\"Senha correta! Acesso permitido.\")\n"
      ]
    },
    {
      "cell_type": "markdown",
      "source": [
        "Exemplo 2\n",
        "\n",
        "Programa que percorre uma lista de sabores de sorvete disponíveis em uma loja e imprime cada sabor."
      ],
      "metadata": {
        "id": "2yXgkFU2h4GN"
      }
    },
    {
      "cell_type": "code",
      "source": [
        "# Lista de sabores de sorvete disponíveis\n",
        "sabores_sorvete = [\"Chocolate\", \"Baunilha\", \"Morango\", \"Menta\", \"Limão\", \"Maracujá\"]\n",
        "\n",
        "# Laço for para percorrer a lista de sabores\n",
        "print(\"Sabores de sorvete disponíveis hoje:\")\n",
        "for sabor in sabores_sorvete:\n",
        "    print(sabor)\n"
      ],
      "metadata": {
        "colab": {
          "base_uri": "https://localhost:8080/"
        },
        "id": "fnsP1kXLhFdm",
        "outputId": "d0f1ae5d-346f-422c-a959-a050032aec64"
      },
      "execution_count": null,
      "outputs": [
        {
          "output_type": "stream",
          "name": "stdout",
          "text": [
            "Sabores de sorvete disponíveis hoje:\n",
            "Chocolate\n",
            "Baunilha\n",
            "Morango\n",
            "Menta\n",
            "Limão\n",
            "Maracujá\n"
          ]
        }
      ]
    },
    {
      "cell_type": "markdown",
      "source": [
        "Exemplo 3\n",
        "\n",
        "Programa\n",
        "que calcula o total de salários pagos a um grupo de funcionários em um mês."
      ],
      "metadata": {
        "id": "p6SWyP8fhtJA"
      }
    },
    {
      "cell_type": "code",
      "source": [
        "# Lista de salários dos funcionários\n",
        "salarios = [2500, 3200, 1800, 2100, 2700, 1000, 700.25]\n",
        "\n",
        "# Inicializando a variável que armazenará o total de salários\n",
        "total_salarios = 0\n",
        "\n",
        "# Laço for para somar os salários\n",
        "for salario in salarios:\n",
        "    #total_salarios += salario\n",
        "    total_salarios = total_salarios + salario\n",
        "\n",
        "# Imprimindo o total de salários pagos\n",
        "print(f\"Total de salários pagos no mês: R${total_salarios:.2f}\")\n"
      ],
      "metadata": {
        "colab": {
          "base_uri": "https://localhost:8080/"
        },
        "id": "NVW3YuuFhXdd",
        "outputId": "6eedbe5e-daca-4c7b-bfa7-fca1e5b7516a"
      },
      "execution_count": null,
      "outputs": [
        {
          "output_type": "stream",
          "name": "stdout",
          "text": [
            "Total de salários pagos no mês: R$14000.25\n"
          ]
        }
      ]
    }
  ]
}